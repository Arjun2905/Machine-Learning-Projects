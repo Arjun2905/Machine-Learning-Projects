{
 "cells": [
  {
   "cell_type": "markdown",
   "metadata": {
    "id": "eqH_IBvK8J4G"
   },
   "source": [
    "Importing Libraries"
   ]
  },
  {
   "cell_type": "code",
   "execution_count": 2,
   "metadata": {
    "id": "__pXnnXo8RkX"
   },
   "outputs": [],
   "source": [
    "import numpy as np\n",
    "import pandas as pd"
   ]
  },
  {
   "cell_type": "markdown",
   "metadata": {
    "id": "FNA34A_38jtj"
   },
   "source": [
    "Taking dataset from scikit-Learn framework ."
   ]
  },
  {
   "cell_type": "code",
   "execution_count": 3,
   "metadata": {
    "id": "RfmdoekF9Gpz"
   },
   "outputs": [],
   "source": [
    "from sklearn.datasets import load_iris\n",
    "iris_dataset = load_iris()"
   ]
  },
  {
   "cell_type": "markdown",
   "metadata": {
    "id": "Jd1wxde39mUV"
   },
   "source": [
    "Exploring the dataset which we have imported from sklearn.datasets."
   ]
  },
  {
   "cell_type": "code",
   "execution_count": 5,
   "metadata": {
    "colab": {
     "base_uri": "https://localhost:8080/"
    },
    "id": "qRUOPQeX9ydx",
    "outputId": "cc96a4d0-6e17-41ea-b6cd-5ed75981008f"
   },
   "outputs": [
    {
     "name": "stdout",
     "output_type": "stream",
     "text": [
      "Keys in iris dataset : dict_keys(['data', 'target', 'target_names', 'DESCR', 'feature_names', 'filename'])\n"
     ]
    }
   ],
   "source": [
    "print(\"Keys in iris dataset : {}\".format(iris_dataset.keys()))"
   ]
  },
  {
   "cell_type": "code",
   "execution_count": 6,
   "metadata": {
    "colab": {
     "base_uri": "https://localhost:8080/"
    },
    "id": "5vCUkg4wBBOi",
    "outputId": "f19e4910-743a-405e-b0b0-e244c603ba55"
   },
   "outputs": [
    {
     "name": "stdout",
     "output_type": "stream",
     "text": [
      ".. _iris_dataset:\n",
      "\n",
      "Iris plants dataset\n",
      "--------------------\n",
      "\n",
      "**Data Set Characteristics:**\n",
      "\n",
      "    :Number of Instances: 150 (50 in each of three classes)\n",
      "    :Number of Attributes: 4 numeric, predictive\n",
      " ...\n"
     ]
    }
   ],
   "source": [
    "print(iris_dataset['DESCR'][:200] + \"\\n ...\")"
   ]
  },
  {
   "cell_type": "code",
   "execution_count": 7,
   "metadata": {
    "colab": {
     "base_uri": "https://localhost:8080/"
    },
    "id": "5LMaqW0PCCkZ",
    "outputId": "39d931c7-1e79-40cf-d648-c4e1423e5151"
   },
   "outputs": [
    {
     "name": "stdout",
     "output_type": "stream",
     "text": [
      "Target names : ['setosa' 'versicolor' 'virginica']\n"
     ]
    }
   ],
   "source": [
    "print(\"Target names : {}\".format(iris_dataset['target_names']))"
   ]
  },
  {
   "cell_type": "code",
   "execution_count": 8,
   "metadata": {
    "colab": {
     "base_uri": "https://localhost:8080/"
    },
    "id": "ITZ5b0UkCXP2",
    "outputId": "c49d3e60-55eb-4d4d-ae0c-4cd1d840b99c"
   },
   "outputs": [
    {
     "name": "stdout",
     "output_type": "stream",
     "text": [
      "Feature names : ['sepal length (cm)', 'sepal width (cm)', 'petal length (cm)', 'petal width (cm)']\n"
     ]
    }
   ],
   "source": [
    "print(\"Feature names : {}\".format(iris_dataset['feature_names']))"
   ]
  },
  {
   "cell_type": "code",
   "execution_count": 10,
   "metadata": {
    "colab": {
     "base_uri": "https://localhost:8080/"
    },
    "id": "NA3o0mgjDjsE",
    "outputId": "e7acb3f0-2629-464e-cf4b-3c6aa3ce90aa"
   },
   "outputs": [
    {
     "name": "stdout",
     "output_type": "stream",
     "text": [
      "Type of data : <class 'numpy.ndarray'>\n",
      "Shape of data : (150, 4)\n"
     ]
    }
   ],
   "source": [
    "print(\"Type of data : {}\".format(type(iris_dataset['data'])))\n",
    "print(\"Shape of data : {}\".format(iris_dataset['data'].shape))"
   ]
  },
  {
   "cell_type": "markdown",
   "metadata": {
    "id": "wNvcJe2eFd4H"
   },
   "source": [
    "There are several keys present in iris data set.\n",
    "\"DESCR\" key contains short description about the dataset.\n",
    "\"Target names\" key contains names of differnt species of flowers.\n",
    "\"Feature names\" key have different features of flowers like length and width of \n",
    "sepals and petals.\n",
    "Shape of data tells us that the data contains of 150 rows and 4 columns.\n",
    "Type of data is nd array\n",
    "Printing out some samples of data."
   ]
  },
  {
   "cell_type": "code",
   "execution_count": 11,
   "metadata": {
    "colab": {
     "base_uri": "https://localhost:8080/"
    },
    "id": "5x4b7T6EDuNm",
    "outputId": "0dbef208-6ced-4fb1-9482-8e55accc9e7c"
   },
   "outputs": [
    {
     "name": "stdout",
     "output_type": "stream",
     "text": [
      "Printing out some columns of data :\n",
      " [[5.1 3.5 1.4 0.2]\n",
      " [4.9 3.  1.4 0.2]\n",
      " [4.7 3.2 1.3 0.2]\n",
      " [4.6 3.1 1.5 0.2]\n",
      " [5.  3.6 1.4 0.2]]\n"
     ]
    }
   ],
   "source": [
    "print(\"Printing out some columns of data :\\n {}\".format(iris_dataset['data'][:5]))"
   ]
  },
  {
   "cell_type": "code",
   "execution_count": 12,
   "metadata": {
    "colab": {
     "base_uri": "https://localhost:8080/"
    },
    "id": "z6A04hpFHg6c",
    "outputId": "c78544b4-e2c7-4e85-b068-73207ec9dc49"
   },
   "outputs": [
    {
     "name": "stdout",
     "output_type": "stream",
     "text": [
      "Type of target : <class 'numpy.ndarray'>\n",
      "Shape of target : (150,)\n"
     ]
    }
   ],
   "source": [
    "print(\"Type of target : {}\".format(type(iris_dataset['target'])))\n",
    "print(\"Shape of target : {}\".format(iris_dataset['target'].shape))"
   ]
  },
  {
   "cell_type": "markdown",
   "metadata": {
    "id": "ynruEGViIDAk"
   },
   "source": [
    "Type of value stored in \"target\" key is nd array.\n",
    "Shape of value stored in target key is (150,) which means it is one dimensional array."
   ]
  },
  {
   "cell_type": "code",
   "execution_count": 13,
   "metadata": {
    "colab": {
     "base_uri": "https://localhost:8080/"
    },
    "id": "J8UWQQ5KIgPl",
    "outputId": "f9bb842d-7f66-49de-fd4b-1b3c33e692dd"
   },
   "outputs": [
    {
     "name": "stdout",
     "output_type": "stream",
     "text": [
      "Target : \n",
      " [0 0 0 0 0 0 0 0 0 0 0 0 0 0 0 0 0 0 0 0 0 0 0 0 0 0 0 0 0 0 0 0 0 0 0 0 0\n",
      " 0 0 0 0 0 0 0 0 0 0 0 0 0 1 1 1 1 1 1 1 1 1 1 1 1 1 1 1 1 1 1 1 1 1 1 1 1\n",
      " 1 1 1 1 1 1 1 1 1 1 1 1 1 1 1 1 1 1 1 1 1 1 1 1 1 1 2 2 2 2 2 2 2 2 2 2 2\n",
      " 2 2 2 2 2 2 2 2 2 2 2 2 2 2 2 2 2 2 2 2 2 2 2 2 2 2 2 2 2 2 2 2 2 2 2 2 2\n",
      " 2 2]\n"
     ]
    }
   ],
   "source": [
    "print(\"Target : \\n {}\".format(iris_dataset['target']))"
   ]
  },
  {
   "cell_type": "markdown",
   "metadata": {
    "id": "5d0a92ZmI3Ab"
   },
   "source": [
    "0 is assigned for sentosa . 1 is assigned for versicolor . 2 is assigned for verginica ."
   ]
  },
  {
   "cell_type": "markdown",
   "metadata": {
    "id": "rSoi_pYwOkxE"
   },
   "source": [
    "TRAINING AND TESTING DATA :"
   ]
  },
  {
   "cell_type": "code",
   "execution_count": 14,
   "metadata": {
    "id": "yiQ2k-XRJEE7"
   },
   "outputs": [],
   "source": [
    "from sklearn.model_selection import train_test_split\n",
    "X_train , X_test , y_train , y_test = train_test_split(\n",
    "    iris_dataset['data'] , iris_dataset['target'] , random_state = 0)"
   ]
  },
  {
   "cell_type": "code",
   "execution_count": 15,
   "metadata": {
    "colab": {
     "base_uri": "https://localhost:8080/"
    },
    "id": "T7_yeF0ZQVHF",
    "outputId": "c5db17fd-46d9-40da-fc77-0dd69b9fe86e"
   },
   "outputs": [
    {
     "name": "stdout",
     "output_type": "stream",
     "text": [
      "X_train shape : (112, 4)\n",
      "y_train shape : (112,)\n",
      "X_test shape : (38, 4)\n",
      "y_test shape : (38,)\n"
     ]
    }
   ],
   "source": [
    "print(\"X_train shape : {}\".format(X_train.shape))\n",
    "print(\"y_train shape : {}\".format(y_train.shape))\n",
    "print(\"X_test shape : {}\".format(X_test.shape))\n",
    "print(\"y_test shape : {}\".format(y_test.shape))"
   ]
  },
  {
   "cell_type": "markdown",
   "metadata": {
    "id": "AH7J_-mIR4NN"
   },
   "source": [
    "The output of train_test_split function is of type Numpy arrays .\n",
    "Training data consist of 75% of dataset and testing data consist of 25% data of dataset . "
   ]
  },
  {
   "cell_type": "markdown",
   "metadata": {
    "id": "X1P9rlCLVF1l"
   },
   "source": [
    "Making a Machine learning model using KNN ."
   ]
  },
  {
   "cell_type": "code",
   "execution_count": 44,
   "metadata": {
    "id": "LPL92BAtVOc6"
   },
   "outputs": [],
   "source": [
    "from sklearn.neighbors import KNeighborsClassifier\n",
    "knn = KNeighborsClassifier(n_neighbors = 1)"
   ]
  },
  {
   "cell_type": "markdown",
   "metadata": {
    "id": "K9beg8XLWc4Z"
   },
   "source": [
    "Training the model on training data."
   ]
  },
  {
   "cell_type": "code",
   "execution_count": 45,
   "metadata": {
    "colab": {
     "base_uri": "https://localhost:8080/"
    },
    "id": "dKz1F-SUV6qM",
    "outputId": "72d7eeab-49ae-4e87-945a-d187d1e060d8"
   },
   "outputs": [
    {
     "data": {
      "text/plain": [
       "KNeighborsClassifier(algorithm='auto', leaf_size=30, metric='minkowski',\n",
       "                     metric_params=None, n_jobs=None, n_neighbors=1, p=2,\n",
       "                     weights='uniform')"
      ]
     },
     "execution_count": 45,
     "metadata": {
      "tags": []
     },
     "output_type": "execute_result"
    }
   ],
   "source": [
    "knn.fit(X_train , y_train)"
   ]
  },
  {
   "cell_type": "markdown",
   "metadata": {
    "id": "d3Ii3nr-WrGJ"
   },
   "source": [
    "Making Predictions"
   ]
  },
  {
   "cell_type": "code",
   "execution_count": 46,
   "metadata": {
    "colab": {
     "base_uri": "https://localhost:8080/"
    },
    "id": "cUyZ6hyrWAZw",
    "outputId": "775f2360-414e-4567-c2aa-fef9772c9a1f"
   },
   "outputs": [
    {
     "name": "stdout",
     "output_type": "stream",
     "text": [
      "X_new shape : (1, 4)\n"
     ]
    }
   ],
   "source": [
    "X_new = np.array([[5,2.9,1,0.2]])\n",
    "print(\"X_new shape : {}\".format(X_new.shape))"
   ]
  },
  {
   "cell_type": "markdown",
   "metadata": {
    "id": "XaAY5OXmXT-j"
   },
   "source": [
    "Getting result of predictions : "
   ]
  },
  {
   "cell_type": "code",
   "execution_count": 47,
   "metadata": {
    "colab": {
     "base_uri": "https://localhost:8080/"
    },
    "id": "1UYrArEyXZL9",
    "outputId": "6f02c274-61d8-480b-d96b-99858c37e9c1"
   },
   "outputs": [
    {
     "name": "stdout",
     "output_type": "stream",
     "text": [
      "Prediction : [0]\n",
      "Predicted target name : ['setosa']\n"
     ]
    }
   ],
   "source": [
    "prediction = knn.predict(X_new)\n",
    "print(\"Prediction : {}\".format(prediction))\n",
    "print(\"Predicted target name : {}\".format(\n",
    "    iris_dataset['target_names'][prediction]))"
   ]
  },
  {
   "cell_type": "markdown",
   "metadata": {
    "id": "SLnngQLsYO86"
   },
   "source": [
    "Evaluating the model :"
   ]
  },
  {
   "cell_type": "code",
   "execution_count": 48,
   "metadata": {
    "colab": {
     "base_uri": "https://localhost:8080/"
    },
    "id": "8_snryTcYSRb",
    "outputId": "1ebaabcc-2186-4847-81dd-5e375724a25a"
   },
   "outputs": [
    {
     "name": "stdout",
     "output_type": "stream",
     "text": [
      "Test set prediction : \n",
      " [2 1 0 2 0 2 0 1 1 1 2 1 1 1 1 0 1 1 0 0 2 1 0 0 2 0 0 1 1 0 2 1 0 2 2 1 0\n",
      " 2]\n"
     ]
    }
   ],
   "source": [
    "y_predict = knn.predict(X_test)\n",
    "print(\"Test set prediction : \\n {}\".format(y_predict))"
   ]
  },
  {
   "cell_type": "markdown",
   "metadata": {
    "id": "AXxekoBeY4ZZ"
   },
   "source": [
    "Getting accuracy :"
   ]
  },
  {
   "cell_type": "code",
   "execution_count": 49,
   "metadata": {
    "colab": {
     "base_uri": "https://localhost:8080/"
    },
    "id": "p52TVSvjY7gE",
    "outputId": "fb9dc0d4-54fd-474b-bace-6e9bd8b7cbad"
   },
   "outputs": [
    {
     "name": "stdout",
     "output_type": "stream",
     "text": [
      "Test set score : 0.9736842105263158\n"
     ]
    }
   ],
   "source": [
    "print(\"Test set score : {}\".format(np.mean(y_predict == y_test)))"
   ]
  }
 ],
 "metadata": {
  "colab": {
   "name": "Arjun_Wankhede.ipynb",
   "provenance": []
  },
  "kernelspec": {
   "display_name": "Python 3",
   "language": "python",
   "name": "python3"
  },
  "language_info": {
   "codemirror_mode": {
    "name": "ipython",
    "version": 3
   },
   "file_extension": ".py",
   "mimetype": "text/x-python",
   "name": "python",
   "nbconvert_exporter": "python",
   "pygments_lexer": "ipython3",
   "version": "3.9.4"
  }
 },
 "nbformat": 4,
 "nbformat_minor": 1
}
